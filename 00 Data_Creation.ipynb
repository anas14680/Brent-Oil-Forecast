{
 "cells": [
  {
   "attachments": {},
   "cell_type": "markdown",
   "metadata": {},
   "source": [
    "## <font color='#FBD5AB'>Agenda</font>\n",
    "\n",
    "### - Objective and its Importance\n",
    "\n",
    "### - Datasets Used \n",
    "\n",
    "### - Understand the data and Feature Selection\n",
    "\n",
    "### - Model Building. Why choose LSTM?\n",
    "\n",
    "### - Next Steps"
   ]
  },
  {
   "attachments": {},
   "cell_type": "markdown",
   "metadata": {},
   "source": [
    "## <font color='#FBD5AB'>OBJECTIVE: Predict Oil Prices</font>"
   ]
  },
  {
   "attachments": {},
   "cell_type": "markdown",
   "metadata": {},
   "source": [
    "Brent Oil Prices international benchmark for crude oil prices and predicting these prices can be extremely useful.\n",
    "\n",
    "\n",
    "- `Economic Planning`\n",
    "- `Mitigate Financial Risk`\n",
    "- `Improved Investment Desicions`\n",
    "\n",
    "However, achieving this task is difficult due to its high volatitlity and the effect of macroeconomic variables. This analysis aims to predict the future oil prices while taking into account this uncertainity. \n"
   ]
  },
  {
   "attachments": {},
   "cell_type": "markdown",
   "metadata": {},
   "source": [
    "## <font color='#FBD5AB'>DATASETS</font>"
   ]
  },
  {
   "attachments": {},
   "cell_type": "markdown",
   "metadata": {},
   "source": [
    "The features/variables we will be using are:\n",
    "\n",
    "- `Brent Oil Prices`\n",
    "\n",
    "- `Supply Estimates` (Source: US Energy Information Administration)\n",
    "  - `OPEC Total Production Capacity`\n",
    "  - `OPEC Total Production of Oil`\n",
    "  - `Saudi Arabia's oil production` \n",
    "  - `OPEC Surplus Total Capacity` \n",
    "\n",
    "\n",
    "\n",
    "- `Demand Estimates` (Source: US Energy Information Administration)\n",
    "  - `Total World Petroleum Liquids Consumption`\n",
    "  - `Total Non-OECD Liquid fuels Consumption`\n",
    "  - `Total OECD Liquid fuels Consumption`\n",
    "  - `Non OPEC Liquid Petroleum Production` \n",
    "\n",
    "- `Financial Market` (Source: Investings.com) \n",
    "  - `Brent Futures`  \n",
    "  - `Bent Oil and Future Price Difference for the same day` \n",
    "  - `Trade Volume` \n",
    "\n",
    "- `US Gasoline Prices` (Source: Federal Reserve Economic Data)\n",
    "\n",
    "- `Macroeconomic Variables`\n",
    "  - `Federal Funds Effective Rate` (Source: Federal Reserve Economic Data)\n",
    "  - `Inflation Indicators` (source: World Bank Data)\n",
    "    - `HCPI`\n",
    "    - `EPI`  \n",
    "  - `World GDP`  (Source: CCI data provided)\n",
    "  - `Uncertainity Index`. (Source: Federal Reserve Economic Data)\n",
    "  - `Gold` (Source: Macrotrends)\n",
    "\n",
    "  \n",
    "\n",
    "\n",
    "Did not use the provided JODI Demand and Supply Data, as I felt like I needed more time to understand the data better. The frequency of the data provided for some variables was not at Daily levels, hence, these datasets were merged on the level they were provided. For example, the EIA datasets were provided on a monthly level. "
   ]
  },
  {
   "attachments": {},
   "cell_type": "markdown",
   "metadata": {},
   "source": [
    "### Importing the required packages"
   ]
  },
  {
   "cell_type": "code",
   "execution_count": 4,
   "metadata": {},
   "outputs": [],
   "source": [
    "import pandas as pd\n",
    "import warnings\n",
    "warnings.filterwarnings(\"ignore\")"
   ]
  },
  {
   "attachments": {},
   "cell_type": "markdown",
   "metadata": {},
   "source": [
    "### Loading main datasets and preprocessing them. This includes ensuring Correct Column names and preparing them for merge accordingly. \n"
   ]
  },
  {
   "cell_type": "code",
   "execution_count": 5,
   "metadata": {},
   "outputs": [],
   "source": [
    "################# Importing the main data ######################\n",
    "main_data = pd.read_excel(\n",
    "    \"/Users/mohammadanas/Desktop/CCI Case study/Data Science Case Study.xlsx\"\n",
    ")\n",
    "main_data[\"DATE\"] = pd.to_datetime(main_data[\"DATE\"])\n",
    "main_data = main_data.sort_values(by=\"DATE\")\n"
   ]
  },
  {
   "cell_type": "code",
   "execution_count": 6,
   "metadata": {},
   "outputs": [],
   "source": [
    "################ Importing Inflation Data #########################\n",
    "inflation_data = pd.read_excel(\"/Users/mohammadanas/Desktop/CCI Case study/US Inflation Information.xlsx\")\n",
    "inflation_data['DATE'] = inflation_data['DATE'].astype('str')\n",
    "# Convert the date variable to a Pandas datetime object\n",
    "inflation_data['DATE'] = pd.to_datetime(inflation_data['DATE'], format='%Y%m')\n",
    "inflation_data['EIA_Formatted_Date'] = inflation_data[\"DATE\"].dt.strftime(\"%b-%y\")\n",
    "inflation_data = inflation_data.drop(columns='DATE')"
   ]
  },
  {
   "cell_type": "code",
   "execution_count": 8,
   "metadata": {},
   "outputs": [],
   "source": [
    "################# Importing Uncertainity Index World #############\n",
    "uncertainity_index = pd.read_csv(\n",
    "    \"/Users/mohammadanas/Desktop/CCI Case study/Uncertainity Index.csv\"\n",
    ")\n",
    "uncertainity_index[\"DATE\"] = pd.to_datetime(uncertainity_index[\"DATE\"])\n",
    "uncertainity_index[\"EIA_Formatted_Date\"] = uncertainity_index[\"DATE\"].dt.strftime(\"%b-%y\")\n",
    "\n",
    "uncertainity_index = uncertainity_index.drop(columns='DATE')"
   ]
  },
  {
   "cell_type": "code",
   "execution_count": 9,
   "metadata": {},
   "outputs": [],
   "source": [
    "################# US Gasoline Prices ########################\n",
    "US_gas_price = pd.read_csv(\n",
    "    \"/Users/mohammadanas/Desktop/CCI Case study/US Gasoline Prices.csv\"\n",
    ")\n",
    "US_gas_price[\"DATE\"] = pd.to_datetime(US_gas_price[\"DATE\"])"
   ]
  },
  {
   "cell_type": "code",
   "execution_count": 10,
   "metadata": {},
   "outputs": [],
   "source": [
    "################# Brent Future Prices ######################\n",
    "Brent_futures = pd.read_csv(\n",
    "    \"/Users/mohammadanas/Desktop/CCI Case study/Brent Oil Futures Historical Data.csv\"\n",
    ")\n",
    "\n",
    "\n",
    "Brent_futures = Brent_futures.rename(columns={\"Date\": \"DATE\", 'Price':'Brent Future', 'Vol.': 'Trade Volumes'})\n",
    "Brent_futures[\"DATE\"] = pd.to_datetime(Brent_futures[\"DATE\"])\n",
    "Brent_futures = Brent_futures.sort_values(by='DATE')\n",
    "\n",
    "### compute average for the next ten days future prices ######\n",
    "Brent_futures['Next Futures Avg'] = Brent_futures['Brent Future'].rolling(10).mean()\n",
    "Brent_futures['Next Futures Avg'] = Brent_futures['Next Futures Avg'].shift(-10)\n",
    "\n",
    "\n",
    "Brent_futures = Brent_futures[[\"DATE\", \"Brent Future\", 'Next Futures Avg', 'Trade Volumes']]\n",
    "Brent_futures = Brent_futures.dropna()\n",
    "\n",
    "#### Preprocess trade volumes ####\n",
    "Brent_futures['Trade Volumes'] = Brent_futures['Trade Volumes'].apply(lambda x: x[:-1])\n",
    "Brent_futures['Trade Volumes'] = Brent_futures['Trade Volumes'].astype('float')"
   ]
  },
  {
   "cell_type": "code",
   "execution_count": 11,
   "metadata": {},
   "outputs": [],
   "source": [
    "##################### Gold Prices Data #####################\n",
    "\n",
    "gold_data = pd.read_csv(\n",
    "    \"/Users/mohammadanas/Desktop/CCI Case study/gold price historic data.csv\"\n",
    ")\n",
    "gold_data = gold_data.rename(columns={\"date\": \"DATE\", \" value\": \"Gold\"})\n",
    "gold_data['DATE'] = pd.to_datetime(gold_data['DATE'])\n",
    "gold_data = gold_data.sort_values(by=\"DATE\")\n"
   ]
  },
  {
   "cell_type": "code",
   "execution_count": 12,
   "metadata": {},
   "outputs": [],
   "source": [
    "##################### Federal Funds Effective Rate #####################\n",
    "\n",
    "FFER = pd.read_excel(\"/Users/mohammadanas/Desktop/CCI Case study/DFF.xlsx\")\n",
    "\n",
    "FFER_Data = FFER.rename(\n",
    "    columns={\n",
    "        \"DFF\": \"DATE\",\n",
    "        \"Federal Funds Effective Rate, Percent, Daily, Not Seasonally Adjusted\": \"FFER\",\n",
    "    }\n",
    ")\n",
    "FFER_Data['DATE'] = pd.to_datetime(FFER_Data['DATE']) "
   ]
  },
  {
   "cell_type": "code",
   "execution_count": null,
   "metadata": {},
   "outputs": [],
   "source": [
    "################ Importing Exchange Rate #########################\n",
    "exchange_rate = pd.read_csv(\n",
    "    \"/Users/mohammadanas/Desktop/CCI Case study/exchange rate.csv\", skiprows=7\n",
    ")\n",
    "exchange_rate.columns = exchange_rate.iloc[0]\n",
    "exchange_rate = exchange_rate.iloc[1:, 0:2]\n",
    "exchange_rate[\"Time Period\"] = pd.to_datetime(exchange_rate[\"Time Period\"])\n",
    "exchange_rate = exchange_rate.loc[\n",
    "    (exchange_rate[\"Time Period\"] >= main_data[\"DATE\"].min())\n",
    "    & (exchange_rate[\"Time Period\"] <= main_data[\"DATE\"].max())\n",
    "]\n",
    "exchange_rate = exchange_rate.rename(columns={\"Time Period\": \"DATE\"})\n"
   ]
  },
  {
   "attachments": {},
   "cell_type": "markdown",
   "metadata": {},
   "source": [
    "### Loading and Preprocessing steps For Demand and Supply datasets. "
   ]
  },
  {
   "cell_type": "code",
   "execution_count": 13,
   "metadata": {},
   "outputs": [],
   "source": [
    "############# Loading OPEC and non OPEC DataSets. Contain Information on Demand and Supply ###########\n",
    "\n",
    "OPEC_production = pd.read_csv(\n",
    "    \"/Users/mohammadanas/Desktop/CCI Case study/OPEC Crude Oil Production.csv\",\n",
    ")\n",
    "\n",
    "NON_OPEC_production = pd.read_csv(\n",
    "    \"/Users/mohammadanas/Desktop/CCI Case study/Non OPEC Production.csv\"\n",
    ")\n",
    "\n",
    "\n",
    "consumption_data = pd.read_csv(\n",
    "    \"/Users/mohammadanas/Desktop/CCI Case study/Consumption.csv\"\n",
    ")\n",
    "\n",
    "\n",
    "#### Extracting the Needed Columns ####\n",
    "OPEC_columns_needed = [\n",
    "    \"Saudi Arabia Crude Oil Production\",\n",
    "    \"OPEC Total Crude Oil Production\",\n",
    "    \"Total OPEC Production\",\n",
    "    \"OPEC Total Crude Oil Production Capacity\",\n",
    "    \"OPEC Total Surplus Crude Oil Production Capacity\",\n",
    "]\n",
    "\n",
    "\n",
    "non_opec_production_columns = [\"Total non-OPEC Liquids Petroleum Production\"]\n",
    "\n",
    "\n",
    "consumption_columns = [\n",
    "    \"Total OECD Liquid Fuels Consumption\",\n",
    "    \"Total non-OECD Liquid Fuels Consumption\",\n",
    "    \"Total World Liquid Fuels Consumption\",\n",
    "]\n"
   ]
  },
  {
   "attachments": {},
   "cell_type": "markdown",
   "metadata": {},
   "source": [
    "### EIA Datasets needed additional preprocessing. The below function acheives that. "
   ]
  },
  {
   "cell_type": "code",
   "execution_count": 14,
   "metadata": {},
   "outputs": [],
   "source": [
    "def process_EIA_data(df, column_names):\n",
    "    \"\"\"The function preprocesses EAI datasets as they need\n",
    "    additional steps. This takes in input parameters:\n",
    "\n",
    "    df: the dataframe to be modified\n",
    "    column_names: columns to be extracted\n",
    "\n",
    "    Outputs:\n",
    "    modified dataframe\"\"\"\n",
    "    df_returned = df.loc[df[\"Unnamed: 1\"].isin(column_names)]\n",
    "    df_returned.index = df_returned[\"Unnamed: 1\"]\n",
    "    df_returned = df_returned.transpose()\n",
    "    df_returned = df_returned.iloc[6:]\n",
    "    df_returned = df_returned.reset_index()\n",
    "    df_returned.rename(columns={\"index\": \"EIA_Formatted_Date\"}, inplace=True)\n",
    "    return df_returned\n",
    "\n",
    "### Applying the function to each of the datasets. \n",
    "OPEC_production_processed = process_EIA_data(OPEC_production, OPEC_columns_needed)\n",
    "NON_OPEC_production_processed = process_EIA_data(\n",
    "    NON_OPEC_production, non_opec_production_columns\n",
    ")\n",
    "consumption_data_processed = process_EIA_data(consumption_data, consumption_columns)\n"
   ]
  },
  {
   "attachments": {},
   "cell_type": "markdown",
   "metadata": {},
   "source": [
    "### Merge Datasets into one main data. "
   ]
  },
  {
   "cell_type": "code",
   "execution_count": 15,
   "metadata": {},
   "outputs": [],
   "source": [
    "#### Creating date on Monthly level\n",
    "main_data[\"EIA_Formatted_Date\"] = main_data[\"DATE\"].dt.strftime(\"%b-%y\")\n",
    "\n",
    "\n",
    "### Merging the data sets\n",
    "final_data = main_data\n",
    "all_data_sets = [Brent_futures, exchange_rate, US_gas_price, gold_data, FFER_Data]\n",
    "EIA_data = [\n",
    "    OPEC_production_processed,\n",
    "    NON_OPEC_production_processed,\n",
    "    consumption_data_processed,\n",
    "    uncertainity_index,\n",
    "    inflation_data\n",
    "]\n",
    "\n",
    "\n",
    "\n",
    "for i in all_data_sets:\n",
    "    final_data = pd.merge(final_data, i, on=\"DATE\", how=\"left\")\n",
    "\n",
    "for i in EIA_data:\n",
    "    final_data = pd.merge(final_data, i, on=\"EIA_Formatted_Date\", how=\"left\")\n"
   ]
  },
  {
   "cell_type": "code",
   "execution_count": 16,
   "metadata": {},
   "outputs": [],
   "source": [
    "#### Filling out missing values for some variables with previously available values. #####\n",
    "\n",
    "################### Gasoline ######################\n",
    "final_data[\"GASREGCOVW\"] = final_data[\"GASREGCOVW\"].ffill()\n",
    "final_data[\"GASREGCOVW\"] = final_data[\"GASREGCOVW\"].fillna(\n",
    "    US_gas_price.loc[\n",
    "        US_gas_price[\"DATE\"] <= final_data[\"DATE\"].min(), \"GASREGCOVW\"\n",
    "    ].iloc[-1]\n",
    ")\n",
    "\n",
    "################### Uncertainity Index ######################\n",
    "final_data[\"WUIGLOBALWEIGHTAVG\"] = final_data[\"WUIGLOBALWEIGHTAVG\"].ffill()\n",
    "\n",
    "################## Gold ###################\n",
    "final_data['Gold'] = final_data['Gold'].ffill()\n",
    "\n",
    "### Create Price Difference data from Brent Futures\n",
    "final_data['Future_Diff'] = final_data['BRENT'] - final_data['Brent Future']\n",
    "\n",
    "\n",
    "### Drop columns ###\n",
    "final_data = final_data.drop(columns=[\"EIA_Formatted_Date\", \"Brent Future\"])\n",
    "\n"
   ]
  },
  {
   "attachments": {},
   "cell_type": "markdown",
   "metadata": {},
   "source": [
    "### Export the dataframe for additional use."
   ]
  },
  {
   "cell_type": "code",
   "execution_count": 17,
   "metadata": {},
   "outputs": [],
   "source": [
    "final_data.to_csv('/Users/mohammadanas/Desktop/CCI Case study/Data for Modelling.csv')"
   ]
  }
 ],
 "metadata": {
  "kernelspec": {
   "display_name": "base",
   "language": "python",
   "name": "python3"
  },
  "language_info": {
   "codemirror_mode": {
    "name": "ipython",
    "version": 3
   },
   "file_extension": ".py",
   "mimetype": "text/x-python",
   "name": "python",
   "nbconvert_exporter": "python",
   "pygments_lexer": "ipython3",
   "version": "3.9.6"
  },
  "orig_nbformat": 4
 },
 "nbformat": 4,
 "nbformat_minor": 2
}
