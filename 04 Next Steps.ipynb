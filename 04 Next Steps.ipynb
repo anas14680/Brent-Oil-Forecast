{
 "cells": [
  {
   "attachments": {},
   "cell_type": "markdown",
   "metadata": {},
   "source": [
    "# Next Steps"
   ]
  },
  {
   "attachments": {},
   "cell_type": "markdown",
   "metadata": {},
   "source": [
    "### We note 2 things about our forecasts from the LSTM model. \n",
    "\n",
    "- Model Fluctuates alot.\n",
    "    - We see signs of overfitting and we can counter that with tuning, such as adding dropouts and regularizations.\n",
    "    - use moving average of previous lags to smoothen prediction trends. \n",
    "\n",
    "- Model Forecasts lag behind Actual Predictions\n",
    "    - Still relying alot on the `immideate` previous lag values.\n",
    "    - A feature missing (Do more research on how brent futures are predicted)\n",
    "\n",
    "### Tune the model. Below are the list of some hyperparameters we can tune\n",
    "\n",
    "- Learning Rate\n",
    "- Add Regularization with More Features (either in form of dropout layers or add l1 or l2 penalty to the cost function)\n",
    "- Optimizers\n",
    "- Architecture\n",
    "    - Add more LSTM layers\n",
    "    - Try GRUs\n",
    "- Use Baysean Inference (Hyperopt)\n",
    "- Tune look back period as a part Hyperparameter tuning process\n",
    "\n",
    "\n",
    "#### Add More Important and Relevant data\n",
    "\n",
    "\n",
    "- Geopolitical and Weather event data (make classification model of when the next uncertain event may occur and use those predictions as input to the model.)\n",
    "- macroeconomic data of other Countries like CHINA AND EU\n",
    "\n",
    "\n",
    "\n",
    "#### Lastly, I do understand that the data points we have our slightly less for training a neural network model, and I am an advocate for using simpler models when they can do the job. However, I wanted to demonstrate my ability to learn new things quickly and code them up instantly. "
   ]
  }
 ],
 "metadata": {
  "language_info": {
   "name": "python"
  },
  "orig_nbformat": 4
 },
 "nbformat": 4,
 "nbformat_minor": 2
}
